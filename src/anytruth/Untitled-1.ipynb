{
 "cells": [
  {
   "cell_type": "code",
   "execution_count": 1,
   "metadata": {},
   "outputs": [],
   "source": [
    "import json\n",
    "import anytruth\n",
    "from importlib import resources as res\n",
    "\n",
    "xFiles = res.files(anytruth).joinpath(\"data\")"
   ]
  },
  {
   "cell_type": "code",
   "execution_count": null,
   "metadata": {},
   "outputs": [],
   "source": [
    "for xFile in xFiles.iterdir():\n",
    "    print(xFile)\n",
    "# endfor"
   ]
  },
  {
   "cell_type": "code",
   "execution_count": null,
   "metadata": {},
   "outputs": [],
   "source": [
    "xFile = xFiles.joinpath(\"labeltypes_std.json\")\n",
    "with res.as_file(xFile) as pathFile:\n",
    "    with pathFile.open(\"r\") as xF:\n",
    "        print(json.load(xF))\n",
    "    # endwith\n",
    "# endwith"
   ]
  }
 ],
 "metadata": {
  "interpreter": {
   "hash": "d144e52b91e679811e4cceb0036205285e180e4be0ba7d3643a3ec09e4fe9f87"
  },
  "kernelspec": {
   "display_name": "Python 3.10.4 ('cath3')",
   "language": "python",
   "name": "python3"
  },
  "language_info": {
   "codemirror_mode": {
    "name": "ipython",
    "version": 3
   },
   "file_extension": ".py",
   "mimetype": "text/x-python",
   "name": "python",
   "nbconvert_exporter": "python",
   "pygments_lexer": "ipython3",
   "version": "3.10.6"
  },
  "orig_nbformat": 4
 },
 "nbformat": 4,
 "nbformat_minor": 2
}
